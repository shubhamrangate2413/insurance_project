{
 "cells": [
  {
   "cell_type": "markdown",
   "id": "9b3cd6e0-3e20-4e1e-9cae-60240a1eee5b",
   "metadata": {},
   "source": [
    "The aim of this project is to provide a practical overview of the general DS/ML workflow, which is becoming an increasingly popular framework upon which modern-day actuarial pricing methods are being built. Accurate pricing is currently one of the most crucial challenges that businesses across the insurance industry are facing, where providing accurate estimates of loss costs is vital to ensuring prudent insurance portfolio management and maintaining successful financial performance, especially as the sector is currently experiencing a swelling volume of claims - for example, regarding business interruption - as one of the major consequences of COVID-19.\n",
    "\n",
    "As a case study, we will introduce some supervised ML techniques for predicting claim severities on a French motor third-party liability (MTPL) insurance dataset."
   ]
  },
  {
   "cell_type": "code",
   "execution_count": 1,
   "id": "30364bc8-d8d2-41bc-acbf-73ef1f866e9c",
   "metadata": {},
   "outputs": [],
   "source": [
    "# Import key modules that will be used throughout the project.\n",
    "\n",
    "import numpy as np # linear algebra\n",
    "import pandas as pd # data processing, CSV file I/O (e.g. pd.read_csv)\n",
    "import matplotlib.pyplot as plt # graphs/plotting\n",
    "import seaborn as sns"
   ]
  },
  {
   "cell_type": "code",
   "execution_count": 4,
   "id": "7ea8a260-2403-4b4f-9328-b7e0903a4987",
   "metadata": {},
   "outputs": [],
   "source": [
    "MTPLFREQ = pd.read_csv('freMTPLfreq.csv')\n",
    "MTPLSEV = pd.read_csv('freMTPLsev.csv')"
   ]
  },
  {
   "cell_type": "code",
   "execution_count": 5,
   "id": "7a91c683-d665-4cab-b27c-1606a4926f87",
   "metadata": {},
   "outputs": [
    {
     "data": {
      "text/html": [
       "<div>\n",
       "<style scoped>\n",
       "    .dataframe tbody tr th:only-of-type {\n",
       "        vertical-align: middle;\n",
       "    }\n",
       "\n",
       "    .dataframe tbody tr th {\n",
       "        vertical-align: top;\n",
       "    }\n",
       "\n",
       "    .dataframe thead th {\n",
       "        text-align: right;\n",
       "    }\n",
       "</style>\n",
       "<table border=\"1\" class=\"dataframe\">\n",
       "  <thead>\n",
       "    <tr style=\"text-align: right;\">\n",
       "      <th></th>\n",
       "      <th>PolicyID</th>\n",
       "      <th>ClaimNb</th>\n",
       "      <th>Exposure</th>\n",
       "      <th>Power</th>\n",
       "      <th>CarAge</th>\n",
       "      <th>DriverAge</th>\n",
       "      <th>Brand</th>\n",
       "      <th>Gas</th>\n",
       "      <th>Region</th>\n",
       "      <th>Density</th>\n",
       "    </tr>\n",
       "  </thead>\n",
       "  <tbody>\n",
       "    <tr>\n",
       "      <th>0</th>\n",
       "      <td>1</td>\n",
       "      <td>0</td>\n",
       "      <td>0.09</td>\n",
       "      <td>g</td>\n",
       "      <td>0</td>\n",
       "      <td>46</td>\n",
       "      <td>Japanese (except Nissan) or Korean</td>\n",
       "      <td>Diesel</td>\n",
       "      <td>Aquitaine</td>\n",
       "      <td>76</td>\n",
       "    </tr>\n",
       "    <tr>\n",
       "      <th>1</th>\n",
       "      <td>2</td>\n",
       "      <td>0</td>\n",
       "      <td>0.84</td>\n",
       "      <td>g</td>\n",
       "      <td>0</td>\n",
       "      <td>46</td>\n",
       "      <td>Japanese (except Nissan) or Korean</td>\n",
       "      <td>Diesel</td>\n",
       "      <td>Aquitaine</td>\n",
       "      <td>76</td>\n",
       "    </tr>\n",
       "    <tr>\n",
       "      <th>2</th>\n",
       "      <td>3</td>\n",
       "      <td>0</td>\n",
       "      <td>0.52</td>\n",
       "      <td>f</td>\n",
       "      <td>2</td>\n",
       "      <td>38</td>\n",
       "      <td>Japanese (except Nissan) or Korean</td>\n",
       "      <td>Regular</td>\n",
       "      <td>Nord-Pas-de-Calais</td>\n",
       "      <td>3003</td>\n",
       "    </tr>\n",
       "    <tr>\n",
       "      <th>3</th>\n",
       "      <td>4</td>\n",
       "      <td>0</td>\n",
       "      <td>0.45</td>\n",
       "      <td>f</td>\n",
       "      <td>2</td>\n",
       "      <td>38</td>\n",
       "      <td>Japanese (except Nissan) or Korean</td>\n",
       "      <td>Regular</td>\n",
       "      <td>Nord-Pas-de-Calais</td>\n",
       "      <td>3003</td>\n",
       "    </tr>\n",
       "    <tr>\n",
       "      <th>4</th>\n",
       "      <td>5</td>\n",
       "      <td>0</td>\n",
       "      <td>0.15</td>\n",
       "      <td>g</td>\n",
       "      <td>0</td>\n",
       "      <td>41</td>\n",
       "      <td>Japanese (except Nissan) or Korean</td>\n",
       "      <td>Diesel</td>\n",
       "      <td>Pays-de-la-Loire</td>\n",
       "      <td>60</td>\n",
       "    </tr>\n",
       "  </tbody>\n",
       "</table>\n",
       "</div>"
      ],
      "text/plain": [
       "   PolicyID  ClaimNb  Exposure Power  CarAge  DriverAge  \\\n",
       "0         1        0      0.09     g       0         46   \n",
       "1         2        0      0.84     g       0         46   \n",
       "2         3        0      0.52     f       2         38   \n",
       "3         4        0      0.45     f       2         38   \n",
       "4         5        0      0.15     g       0         41   \n",
       "\n",
       "                                Brand      Gas              Region  Density  \n",
       "0  Japanese (except Nissan) or Korean   Diesel           Aquitaine       76  \n",
       "1  Japanese (except Nissan) or Korean   Diesel           Aquitaine       76  \n",
       "2  Japanese (except Nissan) or Korean  Regular  Nord-Pas-de-Calais     3003  \n",
       "3  Japanese (except Nissan) or Korean  Regular  Nord-Pas-de-Calais     3003  \n",
       "4  Japanese (except Nissan) or Korean   Diesel    Pays-de-la-Loire       60  "
      ]
     },
     "execution_count": 5,
     "metadata": {},
     "output_type": "execute_result"
    }
   ],
   "source": [
    "MTPLFREQ.head()"
   ]
  },
  {
   "cell_type": "code",
   "execution_count": 6,
   "id": "f9c163e9-1a45-46aa-b892-2a8b7b1c7792",
   "metadata": {},
   "outputs": [
    {
     "data": {
      "text/html": [
       "<div>\n",
       "<style scoped>\n",
       "    .dataframe tbody tr th:only-of-type {\n",
       "        vertical-align: middle;\n",
       "    }\n",
       "\n",
       "    .dataframe tbody tr th {\n",
       "        vertical-align: top;\n",
       "    }\n",
       "\n",
       "    .dataframe thead th {\n",
       "        text-align: right;\n",
       "    }\n",
       "</style>\n",
       "<table border=\"1\" class=\"dataframe\">\n",
       "  <thead>\n",
       "    <tr style=\"text-align: right;\">\n",
       "      <th></th>\n",
       "      <th>PolicyID</th>\n",
       "      <th>ClaimAmount</th>\n",
       "    </tr>\n",
       "  </thead>\n",
       "  <tbody>\n",
       "    <tr>\n",
       "      <th>0</th>\n",
       "      <td>63987</td>\n",
       "      <td>1172</td>\n",
       "    </tr>\n",
       "    <tr>\n",
       "      <th>1</th>\n",
       "      <td>310037</td>\n",
       "      <td>1905</td>\n",
       "    </tr>\n",
       "    <tr>\n",
       "      <th>2</th>\n",
       "      <td>314463</td>\n",
       "      <td>1150</td>\n",
       "    </tr>\n",
       "    <tr>\n",
       "      <th>3</th>\n",
       "      <td>318713</td>\n",
       "      <td>1220</td>\n",
       "    </tr>\n",
       "    <tr>\n",
       "      <th>4</th>\n",
       "      <td>309380</td>\n",
       "      <td>55077</td>\n",
       "    </tr>\n",
       "  </tbody>\n",
       "</table>\n",
       "</div>"
      ],
      "text/plain": [
       "   PolicyID  ClaimAmount\n",
       "0     63987         1172\n",
       "1    310037         1905\n",
       "2    314463         1150\n",
       "3    318713         1220\n",
       "4    309380        55077"
      ]
     },
     "execution_count": 6,
     "metadata": {},
     "output_type": "execute_result"
    }
   ],
   "source": [
    "MTPLSEV.head()"
   ]
  },
  {
   "cell_type": "code",
   "execution_count": 7,
   "id": "1b7c6874-9cdf-4c01-96e2-302f3a26a975",
   "metadata": {},
   "outputs": [
    {
     "data": {
      "text/plain": [
       "34465077"
      ]
     },
     "execution_count": 7,
     "metadata": {},
     "output_type": "execute_result"
    }
   ],
   "source": [
    "# Check for total amount of claims paid in original DataFrame, prior to merging MTPLfreq with MTPLsev\n",
    "MTPLSEV['ClaimAmount'].sum()"
   ]
  },
  {
   "cell_type": "code",
   "execution_count": 10,
   "id": "d139eb39-e100-4c20-96a1-3c94f987c0ba",
   "metadata": {},
   "outputs": [
    {
     "data": {
      "text/html": [
       "<div>\n",
       "<style scoped>\n",
       "    .dataframe tbody tr th:only-of-type {\n",
       "        vertical-align: middle;\n",
       "    }\n",
       "\n",
       "    .dataframe tbody tr th {\n",
       "        vertical-align: top;\n",
       "    }\n",
       "\n",
       "    .dataframe thead th {\n",
       "        text-align: right;\n",
       "    }\n",
       "</style>\n",
       "<table border=\"1\" class=\"dataframe\">\n",
       "  <thead>\n",
       "    <tr style=\"text-align: right;\">\n",
       "      <th></th>\n",
       "      <th>PolicyID</th>\n",
       "      <th>ClaimAmount</th>\n",
       "    </tr>\n",
       "  </thead>\n",
       "  <tbody>\n",
       "    <tr>\n",
       "      <th>0</th>\n",
       "      <td>33</td>\n",
       "      <td>302</td>\n",
       "    </tr>\n",
       "    <tr>\n",
       "      <th>1</th>\n",
       "      <td>41</td>\n",
       "      <td>2001</td>\n",
       "    </tr>\n",
       "    <tr>\n",
       "      <th>2</th>\n",
       "      <td>92</td>\n",
       "      <td>1449</td>\n",
       "    </tr>\n",
       "    <tr>\n",
       "      <th>3</th>\n",
       "      <td>96</td>\n",
       "      <td>10870</td>\n",
       "    </tr>\n",
       "    <tr>\n",
       "      <th>4</th>\n",
       "      <td>142</td>\n",
       "      <td>1390</td>\n",
       "    </tr>\n",
       "    <tr>\n",
       "      <th>...</th>\n",
       "      <td>...</td>\n",
       "      <td>...</td>\n",
       "    </tr>\n",
       "    <tr>\n",
       "      <th>15385</th>\n",
       "      <td>412262</td>\n",
       "      <td>1426</td>\n",
       "    </tr>\n",
       "    <tr>\n",
       "      <th>15386</th>\n",
       "      <td>412270</td>\n",
       "      <td>1364</td>\n",
       "    </tr>\n",
       "    <tr>\n",
       "      <th>15387</th>\n",
       "      <td>412664</td>\n",
       "      <td>7603</td>\n",
       "    </tr>\n",
       "    <tr>\n",
       "      <th>15388</th>\n",
       "      <td>412926</td>\n",
       "      <td>1751</td>\n",
       "    </tr>\n",
       "    <tr>\n",
       "      <th>15389</th>\n",
       "      <td>412944</td>\n",
       "      <td>12491</td>\n",
       "    </tr>\n",
       "  </tbody>\n",
       "</table>\n",
       "<p>15390 rows × 2 columns</p>\n",
       "</div>"
      ],
      "text/plain": [
       "       PolicyID  ClaimAmount\n",
       "0            33          302\n",
       "1            41         2001\n",
       "2            92         1449\n",
       "3            96        10870\n",
       "4           142         1390\n",
       "...         ...          ...\n",
       "15385    412262         1426\n",
       "15386    412270         1364\n",
       "15387    412664         7603\n",
       "15388    412926         1751\n",
       "15389    412944        12491\n",
       "\n",
       "[15390 rows x 2 columns]"
      ]
     },
     "execution_count": 10,
     "metadata": {},
     "output_type": "execute_result"
    }
   ],
   "source": [
    "# Aggregate the claim amounts by PolicyID, prior to merging MTPLfreq with MTPLsev.\n",
    "MTPLSEV.groupby(['PolicyID'])[['ClaimAmount']].agg('sum').reset_index()"
   ]
  },
  {
   "cell_type": "code",
   "execution_count": 13,
   "id": "1b47a052-64bf-484b-a541-f429551ad648",
   "metadata": {},
   "outputs": [],
   "source": [
    "# Perform an outer merge between MTPLfreq/MTPLsev, based on PolicyID, then reset the index back to PolicyID (this is dropped during merging).\n",
    "df_merged = pd.merge(MTPLFREQ, MTPLSEV, how='outer', on='PolicyID').fillna(0).set_index('PolicyID')"
   ]
  },
  {
   "cell_type": "code",
   "execution_count": 14,
   "id": "5ff33315-a380-41c0-a95a-410c2d0b86ee",
   "metadata": {},
   "outputs": [
    {
     "data": {
      "text/plain": [
       "34465077.0"
      ]
     },
     "execution_count": 14,
     "metadata": {},
     "output_type": "execute_result"
    }
   ],
   "source": [
    "df_merged['ClaimAmount'].sum()"
   ]
  },
  {
   "cell_type": "markdown",
   "id": "6ac91f66-f19b-4076-8959-5faadb4827ef",
   "metadata": {},
   "source": [
    "## EDA"
   ]
  },
  {
   "cell_type": "code",
   "execution_count": 15,
   "id": "f1dc2367-eb4e-4d9f-9e51-059307b66664",
   "metadata": {},
   "outputs": [
    {
     "data": {
      "text/plain": [
       "Index(['ClaimNb', 'Exposure', 'Power', 'CarAge', 'DriverAge', 'Brand', 'Gas',\n",
       "       'Region', 'Density', 'ClaimAmount'],\n",
       "      dtype='object')"
      ]
     },
     "execution_count": 15,
     "metadata": {},
     "output_type": "execute_result"
    }
   ],
   "source": [
    "df_merged.columns"
   ]
  },
  {
   "cell_type": "code",
   "execution_count": 16,
   "id": "dc0d1c62-454d-4802-b70f-abda8c328360",
   "metadata": {},
   "outputs": [
    {
     "data": {
      "text/plain": [
       "ClaimNb          int64\n",
       "Exposure       float64\n",
       "Power           object\n",
       "CarAge           int64\n",
       "DriverAge        int64\n",
       "Brand           object\n",
       "Gas             object\n",
       "Region          object\n",
       "Density          int64\n",
       "ClaimAmount    float64\n",
       "dtype: object"
      ]
     },
     "execution_count": 16,
     "metadata": {},
     "output_type": "execute_result"
    }
   ],
   "source": [
    "df_merged.dtypes"
   ]
  },
  {
   "cell_type": "code",
   "execution_count": 17,
   "id": "251e398e-50d3-439d-a5cf-f893308324eb",
   "metadata": {},
   "outputs": [
    {
     "data": {
      "text/html": [
       "<div>\n",
       "<style scoped>\n",
       "    .dataframe tbody tr th:only-of-type {\n",
       "        vertical-align: middle;\n",
       "    }\n",
       "\n",
       "    .dataframe tbody tr th {\n",
       "        vertical-align: top;\n",
       "    }\n",
       "\n",
       "    .dataframe thead th {\n",
       "        text-align: right;\n",
       "    }\n",
       "</style>\n",
       "<table border=\"1\" class=\"dataframe\">\n",
       "  <thead>\n",
       "    <tr style=\"text-align: right;\">\n",
       "      <th></th>\n",
       "      <th>ClaimNb</th>\n",
       "      <th>Exposure</th>\n",
       "      <th>Power</th>\n",
       "      <th>CarAge</th>\n",
       "      <th>DriverAge</th>\n",
       "      <th>Brand</th>\n",
       "      <th>Gas</th>\n",
       "      <th>Region</th>\n",
       "      <th>Density</th>\n",
       "      <th>ClaimAmount</th>\n",
       "    </tr>\n",
       "    <tr>\n",
       "      <th>PolicyID</th>\n",
       "      <th></th>\n",
       "      <th></th>\n",
       "      <th></th>\n",
       "      <th></th>\n",
       "      <th></th>\n",
       "      <th></th>\n",
       "      <th></th>\n",
       "      <th></th>\n",
       "      <th></th>\n",
       "      <th></th>\n",
       "    </tr>\n",
       "  </thead>\n",
       "  <tbody>\n",
       "    <tr>\n",
       "      <th>1</th>\n",
       "      <td>0</td>\n",
       "      <td>0.09</td>\n",
       "      <td>g</td>\n",
       "      <td>0</td>\n",
       "      <td>46</td>\n",
       "      <td>Japanese (except Nissan) or Korean</td>\n",
       "      <td>Diesel</td>\n",
       "      <td>Aquitaine</td>\n",
       "      <td>76</td>\n",
       "      <td>0.0</td>\n",
       "    </tr>\n",
       "    <tr>\n",
       "      <th>2</th>\n",
       "      <td>0</td>\n",
       "      <td>0.84</td>\n",
       "      <td>g</td>\n",
       "      <td>0</td>\n",
       "      <td>46</td>\n",
       "      <td>Japanese (except Nissan) or Korean</td>\n",
       "      <td>Diesel</td>\n",
       "      <td>Aquitaine</td>\n",
       "      <td>76</td>\n",
       "      <td>0.0</td>\n",
       "    </tr>\n",
       "    <tr>\n",
       "      <th>3</th>\n",
       "      <td>0</td>\n",
       "      <td>0.52</td>\n",
       "      <td>f</td>\n",
       "      <td>2</td>\n",
       "      <td>38</td>\n",
       "      <td>Japanese (except Nissan) or Korean</td>\n",
       "      <td>Regular</td>\n",
       "      <td>Nord-Pas-de-Calais</td>\n",
       "      <td>3003</td>\n",
       "      <td>0.0</td>\n",
       "    </tr>\n",
       "    <tr>\n",
       "      <th>4</th>\n",
       "      <td>0</td>\n",
       "      <td>0.45</td>\n",
       "      <td>f</td>\n",
       "      <td>2</td>\n",
       "      <td>38</td>\n",
       "      <td>Japanese (except Nissan) or Korean</td>\n",
       "      <td>Regular</td>\n",
       "      <td>Nord-Pas-de-Calais</td>\n",
       "      <td>3003</td>\n",
       "      <td>0.0</td>\n",
       "    </tr>\n",
       "    <tr>\n",
       "      <th>5</th>\n",
       "      <td>0</td>\n",
       "      <td>0.15</td>\n",
       "      <td>g</td>\n",
       "      <td>0</td>\n",
       "      <td>41</td>\n",
       "      <td>Japanese (except Nissan) or Korean</td>\n",
       "      <td>Diesel</td>\n",
       "      <td>Pays-de-la-Loire</td>\n",
       "      <td>60</td>\n",
       "      <td>0.0</td>\n",
       "    </tr>\n",
       "  </tbody>\n",
       "</table>\n",
       "</div>"
      ],
      "text/plain": [
       "          ClaimNb  Exposure Power  CarAge  DriverAge  \\\n",
       "PolicyID                                               \n",
       "1               0      0.09     g       0         46   \n",
       "2               0      0.84     g       0         46   \n",
       "3               0      0.52     f       2         38   \n",
       "4               0      0.45     f       2         38   \n",
       "5               0      0.15     g       0         41   \n",
       "\n",
       "                                       Brand      Gas              Region  \\\n",
       "PolicyID                                                                    \n",
       "1         Japanese (except Nissan) or Korean   Diesel           Aquitaine   \n",
       "2         Japanese (except Nissan) or Korean   Diesel           Aquitaine   \n",
       "3         Japanese (except Nissan) or Korean  Regular  Nord-Pas-de-Calais   \n",
       "4         Japanese (except Nissan) or Korean  Regular  Nord-Pas-de-Calais   \n",
       "5         Japanese (except Nissan) or Korean   Diesel    Pays-de-la-Loire   \n",
       "\n",
       "          Density  ClaimAmount  \n",
       "PolicyID                        \n",
       "1              76          0.0  \n",
       "2              76          0.0  \n",
       "3            3003          0.0  \n",
       "4            3003          0.0  \n",
       "5              60          0.0  "
      ]
     },
     "execution_count": 17,
     "metadata": {},
     "output_type": "execute_result"
    }
   ],
   "source": [
    "df_merged.head(5)"
   ]
  },
  {
   "cell_type": "markdown",
   "id": "2a3e7ca6-7e58-46db-ac8d-bfe145ff6233",
   "metadata": {},
   "source": [
    "How many policyholders have made zero claims? How will this affect the choice of model that we use to estimate claim severity?"
   ]
  },
  {
   "cell_type": "code",
   "execution_count": 26,
   "id": "77fbb7f0-8f4d-44af-b5e0-b6c42a655788",
   "metadata": {},
   "outputs": [],
   "source": [
    "policies_no_claim = len(df_merged.loc[df_merged['ClaimNb']==0].index)\n",
    "all_policies = len(df_merged.index)\n",
    "\n",
    "pct_policy_no_claim = round((policies_no_claim/all_policies) * 100, 2)"
   ]
  },
  {
   "cell_type": "code",
   "execution_count": 27,
   "id": "1877a130-d50b-484d-8c99-5918ac64da7e",
   "metadata": {},
   "outputs": [
    {
     "data": {
      "text/plain": [
       "96.09"
      ]
     },
     "execution_count": 27,
     "metadata": {},
     "output_type": "execute_result"
    }
   ],
   "source": [
    "pct_policy_no_claim"
   ]
  },
  {
   "cell_type": "markdown",
   "id": "3458375c-e28d-4d08-80ac-cea26f4057af",
   "metadata": {},
   "source": [
    "96.09% of policyholders have not made any claims."
   ]
  },
  {
   "cell_type": "markdown",
   "id": "767a3ffc-d3b1-43c0-b5d2-83a5c74b010d",
   "metadata": {},
   "source": [
    "As a vast majority of the policyholders have not made any claims whatsoever, this implies that ClaimAmount will have a distribution that peaks at zero, but also features right-skewness/tailing to account for positive (total) claim amounts with exponentially decaying probability.\n",
    "\n",
    "Hence, the linear regression model that we use/choose will need to be able to sufficiently account for both of these characteristics of the distribution of ClaimAmount"
   ]
  },
  {
   "cell_type": "markdown",
   "id": "d9380923-de73-4fc7-9fa2-c164c206e144",
   "metadata": {},
   "source": [
    "### Generate additional features based on interactions/transformations of existing variable"
   ]
  },
  {
   "cell_type": "markdown",
   "id": "4b5ce271-be49-408f-9962-98a76496810c",
   "metadata": {},
   "source": [
    "Here, we create two new variables based on existing features - these are ClaimFreq and ClaimSev, which represent the frequency and severity of a policyholder's claim/s, respectively, in units of policy exposure. However, one of these features is not appropriate for use in model training - we will discuss this further"
   ]
  },
  {
   "cell_type": "code",
   "execution_count": 28,
   "id": "ed07fb6a-dd8c-48d7-aeff-249c1bac4332",
   "metadata": {},
   "outputs": [],
   "source": [
    "df_merged['ClaimFreq'] = df_merged['ClaimNb'] / df_merged['Exposure']\n",
    "\n",
    "df_merged['ClaimSev'] = df_merged['ClaimAmount'] / df_merged['Exposure']"
   ]
  },
  {
   "cell_type": "markdown",
   "id": "d1a731fd-10df-48c2-8024-9c3297cb4907",
   "metadata": {},
   "source": [
    "Next, we will consider where data leakage may be likely to creep into the model fitting process, by reviewing the features/columns to confirm their meanings and evaluate whether any of them can introduce bias into the model training process. In this project, the following two factors are considered to be relevant:\n",
    "\n",
    "Target leakage\n",
    "\n",
    "This can occur when the predictors/features include or refer to data/information that will not be available at the time of making predictions. In this project, any features that are derived from the target that we wish to predict (e.g. ClaimSev) are not suitable - this is because ClaimSev itself depends on ClaimAmount, which we will not know at the time of prediction.\n",
    "\n",
    "Train-test contamination\n",
    "\n",
    "This can occur when data that are used to train the model/s are subsequently used to make predictions, which will lead to the introduction of bias in the model evaluation process; once trained, the model will appear to perform extremely well against the (in-sample) test dataset, but will be worse at generalising to unseen/out-of-sample data.\n",
    "\n",
    "Hence, using train_test_split() to split our dataset into training/test samples is vital for avoiding train-test contamination of the model training process."
   ]
  },
  {
   "cell_type": "markdown",
   "id": "bf2d93a5-3198-41d9-b84c-1daafcaa1cb6",
   "metadata": {},
   "source": [
    "# train-test split"
   ]
  },
  {
   "cell_type": "markdown",
   "id": "b64f483a-91ec-49a6-83f7-f1de6a8d4e8e",
   "metadata": {},
   "source": [
    "we will create separate DataFrames that will store the features and target variables. These are then supplied to the sklearn function train_test_split() in order to split the data into training/test subsets, for the reason outlined above."
   ]
  },
  {
   "cell_type": "code",
   "execution_count": 30,
   "id": "cc7f71bb-8736-474e-8193-d4ba5f962788",
   "metadata": {},
   "outputs": [],
   "source": [
    "y_full = df_merged.ClaimAmount\n",
    "\n",
    "# Assign the features to their own dataframe. Also, remove ClaimSev, to prevent data leakage when predicting ClaimAmount.\n",
    "X_full = df_merged.drop(['ClaimAmount', 'ClaimSev'], axis=1)\n"
   ]
  },
  {
   "cell_type": "code",
   "execution_count": 31,
   "id": "b08ff4f0-bc43-49ac-bd50-e566528cb1fb",
   "metadata": {},
   "outputs": [
    {
     "data": {
      "text/plain": [
       "PolicyID\n",
       "1    0.0\n",
       "2    0.0\n",
       "3    0.0\n",
       "4    0.0\n",
       "5    0.0\n",
       "Name: ClaimAmount, dtype: float64"
      ]
     },
     "execution_count": 31,
     "metadata": {},
     "output_type": "execute_result"
    }
   ],
   "source": [
    "y_full.head(5)"
   ]
  },
  {
   "cell_type": "code",
   "execution_count": 32,
   "id": "cf7eaa66-8294-44be-9d24-4e143ec72c70",
   "metadata": {},
   "outputs": [
    {
     "data": {
      "text/html": [
       "<div>\n",
       "<style scoped>\n",
       "    .dataframe tbody tr th:only-of-type {\n",
       "        vertical-align: middle;\n",
       "    }\n",
       "\n",
       "    .dataframe tbody tr th {\n",
       "        vertical-align: top;\n",
       "    }\n",
       "\n",
       "    .dataframe thead th {\n",
       "        text-align: right;\n",
       "    }\n",
       "</style>\n",
       "<table border=\"1\" class=\"dataframe\">\n",
       "  <thead>\n",
       "    <tr style=\"text-align: right;\">\n",
       "      <th></th>\n",
       "      <th>ClaimNb</th>\n",
       "      <th>Exposure</th>\n",
       "      <th>Power</th>\n",
       "      <th>CarAge</th>\n",
       "      <th>DriverAge</th>\n",
       "      <th>Brand</th>\n",
       "      <th>Gas</th>\n",
       "      <th>Region</th>\n",
       "      <th>Density</th>\n",
       "      <th>ClaimFreq</th>\n",
       "    </tr>\n",
       "    <tr>\n",
       "      <th>PolicyID</th>\n",
       "      <th></th>\n",
       "      <th></th>\n",
       "      <th></th>\n",
       "      <th></th>\n",
       "      <th></th>\n",
       "      <th></th>\n",
       "      <th></th>\n",
       "      <th></th>\n",
       "      <th></th>\n",
       "      <th></th>\n",
       "    </tr>\n",
       "  </thead>\n",
       "  <tbody>\n",
       "    <tr>\n",
       "      <th>1</th>\n",
       "      <td>0</td>\n",
       "      <td>0.09</td>\n",
       "      <td>g</td>\n",
       "      <td>0</td>\n",
       "      <td>46</td>\n",
       "      <td>Japanese (except Nissan) or Korean</td>\n",
       "      <td>Diesel</td>\n",
       "      <td>Aquitaine</td>\n",
       "      <td>76</td>\n",
       "      <td>0.0</td>\n",
       "    </tr>\n",
       "    <tr>\n",
       "      <th>2</th>\n",
       "      <td>0</td>\n",
       "      <td>0.84</td>\n",
       "      <td>g</td>\n",
       "      <td>0</td>\n",
       "      <td>46</td>\n",
       "      <td>Japanese (except Nissan) or Korean</td>\n",
       "      <td>Diesel</td>\n",
       "      <td>Aquitaine</td>\n",
       "      <td>76</td>\n",
       "      <td>0.0</td>\n",
       "    </tr>\n",
       "    <tr>\n",
       "      <th>3</th>\n",
       "      <td>0</td>\n",
       "      <td>0.52</td>\n",
       "      <td>f</td>\n",
       "      <td>2</td>\n",
       "      <td>38</td>\n",
       "      <td>Japanese (except Nissan) or Korean</td>\n",
       "      <td>Regular</td>\n",
       "      <td>Nord-Pas-de-Calais</td>\n",
       "      <td>3003</td>\n",
       "      <td>0.0</td>\n",
       "    </tr>\n",
       "    <tr>\n",
       "      <th>4</th>\n",
       "      <td>0</td>\n",
       "      <td>0.45</td>\n",
       "      <td>f</td>\n",
       "      <td>2</td>\n",
       "      <td>38</td>\n",
       "      <td>Japanese (except Nissan) or Korean</td>\n",
       "      <td>Regular</td>\n",
       "      <td>Nord-Pas-de-Calais</td>\n",
       "      <td>3003</td>\n",
       "      <td>0.0</td>\n",
       "    </tr>\n",
       "    <tr>\n",
       "      <th>5</th>\n",
       "      <td>0</td>\n",
       "      <td>0.15</td>\n",
       "      <td>g</td>\n",
       "      <td>0</td>\n",
       "      <td>41</td>\n",
       "      <td>Japanese (except Nissan) or Korean</td>\n",
       "      <td>Diesel</td>\n",
       "      <td>Pays-de-la-Loire</td>\n",
       "      <td>60</td>\n",
       "      <td>0.0</td>\n",
       "    </tr>\n",
       "  </tbody>\n",
       "</table>\n",
       "</div>"
      ],
      "text/plain": [
       "          ClaimNb  Exposure Power  CarAge  DriverAge  \\\n",
       "PolicyID                                               \n",
       "1               0      0.09     g       0         46   \n",
       "2               0      0.84     g       0         46   \n",
       "3               0      0.52     f       2         38   \n",
       "4               0      0.45     f       2         38   \n",
       "5               0      0.15     g       0         41   \n",
       "\n",
       "                                       Brand      Gas              Region  \\\n",
       "PolicyID                                                                    \n",
       "1         Japanese (except Nissan) or Korean   Diesel           Aquitaine   \n",
       "2         Japanese (except Nissan) or Korean   Diesel           Aquitaine   \n",
       "3         Japanese (except Nissan) or Korean  Regular  Nord-Pas-de-Calais   \n",
       "4         Japanese (except Nissan) or Korean  Regular  Nord-Pas-de-Calais   \n",
       "5         Japanese (except Nissan) or Korean   Diesel    Pays-de-la-Loire   \n",
       "\n",
       "          Density  ClaimFreq  \n",
       "PolicyID                      \n",
       "1              76        0.0  \n",
       "2              76        0.0  \n",
       "3            3003        0.0  \n",
       "4            3003        0.0  \n",
       "5              60        0.0  "
      ]
     },
     "execution_count": 32,
     "metadata": {},
     "output_type": "execute_result"
    }
   ],
   "source": [
    "X_full.head(5)"
   ]
  },
  {
   "cell_type": "code",
   "execution_count": 33,
   "id": "6d416272-6080-4391-aa1a-ca3f687996a0",
   "metadata": {},
   "outputs": [],
   "source": [
    "# Perform a train-test split to obtain the training and test data as separate dataframes.\n",
    "from sklearn.model_selection import train_test_split"
   ]
  },
  {
   "cell_type": "code",
   "execution_count": 34,
   "id": "3a039ae8-79f2-4dc0-a4aa-b30b42767f0f",
   "metadata": {},
   "outputs": [],
   "source": [
    "# We will set the size of the X/y training datasets to be 80% of the original (full) X/y datasets, via the train_size/test_size parameters\n",
    "X_train, X_valid, y_train, y_valid = train_test_split(X_full, y_full, train_size=0.2, random_state=1)"
   ]
  },
  {
   "cell_type": "markdown",
   "id": "62bb4524-8d19-48ad-91fb-816e1a3ce93d",
   "metadata": {},
   "source": [
    "### Label Encoding\n",
    "\n",
    "Here, we label-encode the Power column such that it changes each (ordinal) text-based label to a numerical value which is machine-interpretable, for later use in feature scaling as well as model fitting."
   ]
  },
  {
   "cell_type": "code",
   "execution_count": 35,
   "id": "d89e2085-3bec-4f19-adb2-8e0c4b710a88",
   "metadata": {},
   "outputs": [],
   "source": [
    "from sklearn.preprocessing import LabelEncoder\n",
    "\n",
    "# Make a copy of the training/validation feature subsets to avoid changing any original data.\n",
    "copy_X_train = X_train.copy()\n",
    "copy_X_valid = X_valid.copy()"
   ]
  },
  {
   "cell_type": "code",
   "execution_count": 36,
   "id": "d84e63b8-d8be-4323-8194-8e4fc8082f67",
   "metadata": {},
   "outputs": [
    {
     "data": {
      "text/plain": [
       "array(['g', 'f', 'd', 'i', 'e', 'h', 'j', 'l', 'o', 'n', 'k', 'm'],\n",
       "      dtype=object)"
      ]
     },
     "execution_count": 36,
     "metadata": {},
     "output_type": "execute_result"
    }
   ],
   "source": [
    "df_merged.Power.unique()"
   ]
  },
  {
   "cell_type": "code",
   "execution_count": 39,
   "id": "7f89b4b0-2520-414b-a26b-7d2993ae1e2f",
   "metadata": {},
   "outputs": [
    {
     "data": {
      "text/plain": [
       "array(['Japanese (except Nissan) or Korean', 'Fiat',\n",
       "       'Opel, General Motors or Ford', 'Mercedes, Chrysler or BMW',\n",
       "       'Renault, Nissan or Citroen', 'Volkswagen, Audi, Skoda or Seat',\n",
       "       'other'], dtype=object)"
      ]
     },
     "execution_count": 39,
     "metadata": {},
     "output_type": "execute_result"
    }
   ],
   "source": [
    "df_merged.Brand.unique()"
   ]
  },
  {
   "cell_type": "code",
   "execution_count": 40,
   "id": "418349a2-6712-40c9-a420-8274d5f7b514",
   "metadata": {},
   "outputs": [
    {
     "data": {
      "text/plain": [
       "array(['Diesel', 'Regular'], dtype=object)"
      ]
     },
     "execution_count": 40,
     "metadata": {},
     "output_type": "execute_result"
    }
   ],
   "source": [
    "df_merged.Gas.unique()"
   ]
  },
  {
   "cell_type": "code",
   "execution_count": 41,
   "id": "50f5a5ad-6f60-4b5d-b9b2-c60604402b44",
   "metadata": {},
   "outputs": [
    {
     "data": {
      "text/plain": [
       "array(['Aquitaine', 'Nord-Pas-de-Calais', 'Pays-de-la-Loire',\n",
       "       'Ile-de-France', 'Centre', 'Poitou-Charentes', 'Bretagne',\n",
       "       'Basse-Normandie', 'Limousin', 'Haute-Normandie'], dtype=object)"
      ]
     },
     "execution_count": 41,
     "metadata": {},
     "output_type": "execute_result"
    }
   ],
   "source": [
    "df_merged.Region.unique()"
   ]
  },
  {
   "cell_type": "code",
   "execution_count": 37,
   "id": "6aa1dd1e-ad1e-49c7-a1c3-73395e3f2972",
   "metadata": {},
   "outputs": [],
   "source": [
    "# Apply a label encoder to the 'Power' column (i.e. encoding of ordinal variable).\n",
    "label_encoder = LabelEncoder()\n",
    "copy_X_train['Power'] = label_encoder.fit_transform(X_train['Power'])\n",
    "copy_X_valid['Power'] = label_encoder.transform(X_valid['Power'])"
   ]
  },
  {
   "cell_type": "markdown",
   "id": "0ee1a717-a3e7-436b-b8be-1121e6925ec0",
   "metadata": {},
   "source": [
    "### One-Hot Encoding\n",
    "\n",
    "We also one-hot encode the Brand, Gas and Region columns, such that these categories are converted to numerical and machine-interpretable values that can be supplied to each regression model."
   ]
  },
  {
   "cell_type": "code",
   "execution_count": 38,
   "id": "e433375e-0978-4851-bde0-4827bb8a9eef",
   "metadata": {},
   "outputs": [
    {
     "data": {
      "text/html": [
       "<div>\n",
       "<style scoped>\n",
       "    .dataframe tbody tr th:only-of-type {\n",
       "        vertical-align: middle;\n",
       "    }\n",
       "\n",
       "    .dataframe tbody tr th {\n",
       "        vertical-align: top;\n",
       "    }\n",
       "\n",
       "    .dataframe thead th {\n",
       "        text-align: right;\n",
       "    }\n",
       "</style>\n",
       "<table border=\"1\" class=\"dataframe\">\n",
       "  <thead>\n",
       "    <tr style=\"text-align: right;\">\n",
       "      <th></th>\n",
       "      <th>ClaimNb</th>\n",
       "      <th>Exposure</th>\n",
       "      <th>Power</th>\n",
       "      <th>CarAge</th>\n",
       "      <th>DriverAge</th>\n",
       "      <th>Brand</th>\n",
       "      <th>Gas</th>\n",
       "      <th>Region</th>\n",
       "      <th>Density</th>\n",
       "      <th>ClaimFreq</th>\n",
       "    </tr>\n",
       "    <tr>\n",
       "      <th>PolicyID</th>\n",
       "      <th></th>\n",
       "      <th></th>\n",
       "      <th></th>\n",
       "      <th></th>\n",
       "      <th></th>\n",
       "      <th></th>\n",
       "      <th></th>\n",
       "      <th></th>\n",
       "      <th></th>\n",
       "      <th></th>\n",
       "    </tr>\n",
       "  </thead>\n",
       "  <tbody>\n",
       "    <tr>\n",
       "      <th>262972</th>\n",
       "      <td>0</td>\n",
       "      <td>0.24</td>\n",
       "      <td>2</td>\n",
       "      <td>11</td>\n",
       "      <td>26</td>\n",
       "      <td>Volkswagen, Audi, Skoda or Seat</td>\n",
       "      <td>Diesel</td>\n",
       "      <td>Centre</td>\n",
       "      <td>16</td>\n",
       "      <td>0.0</td>\n",
       "    </tr>\n",
       "    <tr>\n",
       "      <th>316568</th>\n",
       "      <td>0</td>\n",
       "      <td>0.42</td>\n",
       "      <td>1</td>\n",
       "      <td>4</td>\n",
       "      <td>34</td>\n",
       "      <td>Renault, Nissan or Citroen</td>\n",
       "      <td>Diesel</td>\n",
       "      <td>Nord-Pas-de-Calais</td>\n",
       "      <td>684</td>\n",
       "      <td>0.0</td>\n",
       "    </tr>\n",
       "    <tr>\n",
       "      <th>266894</th>\n",
       "      <td>0</td>\n",
       "      <td>0.43</td>\n",
       "      <td>2</td>\n",
       "      <td>5</td>\n",
       "      <td>30</td>\n",
       "      <td>Renault, Nissan or Citroen</td>\n",
       "      <td>Diesel</td>\n",
       "      <td>Nord-Pas-de-Calais</td>\n",
       "      <td>7887</td>\n",
       "      <td>0.0</td>\n",
       "    </tr>\n",
       "    <tr>\n",
       "      <th>186466</th>\n",
       "      <td>0</td>\n",
       "      <td>1.00</td>\n",
       "      <td>2</td>\n",
       "      <td>9</td>\n",
       "      <td>58</td>\n",
       "      <td>Opel, General Motors or Ford</td>\n",
       "      <td>Regular</td>\n",
       "      <td>Poitou-Charentes</td>\n",
       "      <td>25</td>\n",
       "      <td>0.0</td>\n",
       "    </tr>\n",
       "    <tr>\n",
       "      <th>167265</th>\n",
       "      <td>0</td>\n",
       "      <td>1.00</td>\n",
       "      <td>2</td>\n",
       "      <td>15</td>\n",
       "      <td>63</td>\n",
       "      <td>Renault, Nissan or Citroen</td>\n",
       "      <td>Regular</td>\n",
       "      <td>Centre</td>\n",
       "      <td>32</td>\n",
       "      <td>0.0</td>\n",
       "    </tr>\n",
       "    <tr>\n",
       "      <th>...</th>\n",
       "      <td>...</td>\n",
       "      <td>...</td>\n",
       "      <td>...</td>\n",
       "      <td>...</td>\n",
       "      <td>...</td>\n",
       "      <td>...</td>\n",
       "      <td>...</td>\n",
       "      <td>...</td>\n",
       "      <td>...</td>\n",
       "      <td>...</td>\n",
       "    </tr>\n",
       "    <tr>\n",
       "      <th>73213</th>\n",
       "      <td>0</td>\n",
       "      <td>1.00</td>\n",
       "      <td>2</td>\n",
       "      <td>10</td>\n",
       "      <td>59</td>\n",
       "      <td>Opel, General Motors or Ford</td>\n",
       "      <td>Regular</td>\n",
       "      <td>Poitou-Charentes</td>\n",
       "      <td>227</td>\n",
       "      <td>0.0</td>\n",
       "    </tr>\n",
       "    <tr>\n",
       "      <th>370705</th>\n",
       "      <td>0</td>\n",
       "      <td>0.62</td>\n",
       "      <td>4</td>\n",
       "      <td>18</td>\n",
       "      <td>46</td>\n",
       "      <td>Renault, Nissan or Citroen</td>\n",
       "      <td>Diesel</td>\n",
       "      <td>Centre</td>\n",
       "      <td>27</td>\n",
       "      <td>0.0</td>\n",
       "    </tr>\n",
       "    <tr>\n",
       "      <th>311611</th>\n",
       "      <td>0</td>\n",
       "      <td>0.25</td>\n",
       "      <td>3</td>\n",
       "      <td>1</td>\n",
       "      <td>39</td>\n",
       "      <td>Japanese (except Nissan) or Korean</td>\n",
       "      <td>Diesel</td>\n",
       "      <td>Ile-de-France</td>\n",
       "      <td>3661</td>\n",
       "      <td>0.0</td>\n",
       "    </tr>\n",
       "    <tr>\n",
       "      <th>266811</th>\n",
       "      <td>0</td>\n",
       "      <td>0.91</td>\n",
       "      <td>1</td>\n",
       "      <td>7</td>\n",
       "      <td>40</td>\n",
       "      <td>Volkswagen, Audi, Skoda or Seat</td>\n",
       "      <td>Diesel</td>\n",
       "      <td>Centre</td>\n",
       "      <td>48</td>\n",
       "      <td>0.0</td>\n",
       "    </tr>\n",
       "    <tr>\n",
       "      <th>127768</th>\n",
       "      <td>0</td>\n",
       "      <td>0.25</td>\n",
       "      <td>1</td>\n",
       "      <td>6</td>\n",
       "      <td>37</td>\n",
       "      <td>Renault, Nissan or Citroen</td>\n",
       "      <td>Regular</td>\n",
       "      <td>Pays-de-la-Loire</td>\n",
       "      <td>4128</td>\n",
       "      <td>0.0</td>\n",
       "    </tr>\n",
       "  </tbody>\n",
       "</table>\n",
       "<p>82792 rows × 10 columns</p>\n",
       "</div>"
      ],
      "text/plain": [
       "          ClaimNb  Exposure  Power  CarAge  DriverAge  \\\n",
       "PolicyID                                                \n",
       "262972          0      0.24      2      11         26   \n",
       "316568          0      0.42      1       4         34   \n",
       "266894          0      0.43      2       5         30   \n",
       "186466          0      1.00      2       9         58   \n",
       "167265          0      1.00      2      15         63   \n",
       "...           ...       ...    ...     ...        ...   \n",
       "73213           0      1.00      2      10         59   \n",
       "370705          0      0.62      4      18         46   \n",
       "311611          0      0.25      3       1         39   \n",
       "266811          0      0.91      1       7         40   \n",
       "127768          0      0.25      1       6         37   \n",
       "\n",
       "                                       Brand      Gas              Region  \\\n",
       "PolicyID                                                                    \n",
       "262972       Volkswagen, Audi, Skoda or Seat   Diesel              Centre   \n",
       "316568            Renault, Nissan or Citroen   Diesel  Nord-Pas-de-Calais   \n",
       "266894            Renault, Nissan or Citroen   Diesel  Nord-Pas-de-Calais   \n",
       "186466          Opel, General Motors or Ford  Regular    Poitou-Charentes   \n",
       "167265            Renault, Nissan or Citroen  Regular              Centre   \n",
       "...                                      ...      ...                 ...   \n",
       "73213           Opel, General Motors or Ford  Regular    Poitou-Charentes   \n",
       "370705            Renault, Nissan or Citroen   Diesel              Centre   \n",
       "311611    Japanese (except Nissan) or Korean   Diesel       Ile-de-France   \n",
       "266811       Volkswagen, Audi, Skoda or Seat   Diesel              Centre   \n",
       "127768            Renault, Nissan or Citroen  Regular    Pays-de-la-Loire   \n",
       "\n",
       "          Density  ClaimFreq  \n",
       "PolicyID                      \n",
       "262972         16        0.0  \n",
       "316568        684        0.0  \n",
       "266894       7887        0.0  \n",
       "186466         25        0.0  \n",
       "167265         32        0.0  \n",
       "...           ...        ...  \n",
       "73213         227        0.0  \n",
       "370705         27        0.0  \n",
       "311611       3661        0.0  \n",
       "266811         48        0.0  \n",
       "127768       4128        0.0  \n",
       "\n",
       "[82792 rows x 10 columns]"
      ]
     },
     "execution_count": 38,
     "metadata": {},
     "output_type": "execute_result"
    }
   ],
   "source": [
    "copy_X_train"
   ]
  },
  {
   "cell_type": "code",
   "execution_count": 43,
   "id": "8497ed1f-b593-4c65-9c1b-09f2fbf5b997",
   "metadata": {},
   "outputs": [],
   "source": [
    "from sklearn.preprocessing import OneHotEncoder\n",
    "oh_encoder = OneHotEncoder(handle_unknown='ignore', sparse=False)\n",
    "oh_cols = ['Brand', 'Gas', 'Region']\n",
    "\n",
    "## We set handle_unknown='ignore' to avoid errors when the validation data contains classes that aren't represented\n",
    "## in the training data, and setting sparse=False ensures that the encoded columns are returned as a numpy array\n",
    "## (instead of a sparse matrix).\n",
    "\n",
    "oh_cols_train = pd.DataFrame(oh_encoder.fit_transform(copy_X_train[oh_cols]))\n",
    "oh_cols_valid = pd.DataFrame(oh_encoder.transform(copy_X_valid[oh_cols]))"
   ]
  },
  {
   "cell_type": "code",
   "execution_count": 46,
   "id": "46a5ddf6-13f3-4e47-9246-3f23e023c389",
   "metadata": {},
   "outputs": [],
   "source": [
    "# One-hot encoding removes the index; re-assign the original index.\n",
    "oh_cols_train.index = copy_X_train.index\n",
    "oh_cols_valid.index = copy_X_valid.index"
   ]
  },
  {
   "cell_type": "code",
   "execution_count": 56,
   "id": "5a3e2295-69ef-4f2a-9a35-c6e83dd9b23e",
   "metadata": {},
   "outputs": [],
   "source": [
    "oh_cols_train.columns = oh_encoder.get_feature_names_out(oh_cols)\n",
    "oh_cols_valid.columns = oh_encoder.get_feature_names_out(oh_cols)\n",
    "\n",
    "# Create copies that only include numerical feature columns (these will be replaced with one-hot encoded versions).\n",
    "copy_X_train_no_oh_cols = copy_X_train.drop(oh_cols, axis=1)\n",
    "copy_X_valid_no_oh_cols = copy_X_valid.drop(oh_cols, axis=1)\n",
    "\n",
    "# Concatenate the one-hot encoded columns with the existing numerical feature columns.\n",
    "X_train_enc = pd.concat([copy_X_train_no_oh_cols, oh_cols_train], axis=1)\n",
    "X_valid_enc = pd.concat([copy_X_valid_no_oh_cols, oh_cols_valid], axis=1)"
   ]
  },
  {
   "cell_type": "markdown",
   "id": "c1fc212c-bdfe-406c-b914-3ac926115698",
   "metadata": {},
   "source": [
    "### Data scaling - normalisation\n",
    "\n",
    "Next, we perform min-max scaling on the encoded dataset, such that all features lie between 0 and 1 - this is so that, when training any of the regression models, all features will have variances with the same order of magnitude as each other. Thus, no single feature will dominate the objective function and prohibit the model from learning from other features correctly as expected."
   ]
  },
  {
   "cell_type": "code",
   "execution_count": 61,
   "id": "d2e00a7c-f641-4a05-aa87-16d19819c585",
   "metadata": {},
   "outputs": [],
   "source": [
    "from sklearn.preprocessing import MinMaxScaler\n",
    "mmscaler = MinMaxScaler()\n",
    "mmscaler.fit(X_train_enc)\n",
    "\n",
    "# Fit the scaler, then normalise/transform both the training and validation feature datasets.\n",
    "X_train_scale = pd.DataFrame(mmscaler.transform(X_train_enc),\n",
    "                             index=X_train_enc.index,\n",
    "                             columns=X_train_enc.columns)\n",
    "\n",
    "# Fit the scaler, then normalise/transform both the training and validation feature datasets.\n",
    "X_valid_scale = pd.DataFrame(mmscaler.transform(X_valid_enc),\n",
    "                             index=X_valid_enc.index,\n",
    "                             columns=X_valid_enc.columns)"
   ]
  },
  {
   "cell_type": "code",
   "execution_count": 65,
   "id": "92449110-f7c6-49f3-bb5f-ef620066cda6",
   "metadata": {},
   "outputs": [
    {
     "data": {
      "text/plain": [
       "ClaimNb                                     0.0\n",
       "Exposure                                    0.0\n",
       "Power                                       0.0\n",
       "CarAge                                      0.0\n",
       "DriverAge                                   0.0\n",
       "Density                                     0.0\n",
       "ClaimFreq                                   0.0\n",
       "Brand_Fiat                                  0.0\n",
       "Brand_Japanese (except Nissan) or Korean    0.0\n",
       "Brand_Mercedes, Chrysler or BMW             0.0\n",
       "Brand_Opel, General Motors or Ford          0.0\n",
       "Brand_Renault, Nissan or Citroen            0.0\n",
       "Brand_Volkswagen, Audi, Skoda or Seat       0.0\n",
       "Brand_other                                 0.0\n",
       "Gas_Diesel                                  0.0\n",
       "Gas_Regular                                 0.0\n",
       "Region_Aquitaine                            0.0\n",
       "Region_Basse-Normandie                      0.0\n",
       "Region_Bretagne                             0.0\n",
       "Region_Centre                               0.0\n",
       "Region_Haute-Normandie                      0.0\n",
       "Region_Ile-de-France                        0.0\n",
       "Region_Limousin                             0.0\n",
       "Region_Nord-Pas-de-Calais                   0.0\n",
       "Region_Pays-de-la-Loire                     0.0\n",
       "Region_Poitou-Charentes                     0.0\n",
       "dtype: float64"
      ]
     },
     "execution_count": 65,
     "metadata": {},
     "output_type": "execute_result"
    }
   ],
   "source": [
    "# Verify minimum value of all features in X_train_scale:\n",
    "\n",
    "X_valid_scale.min(axis=0)"
   ]
  },
  {
   "cell_type": "code",
   "execution_count": 67,
   "id": "c785ce6d-9d7d-489f-b7f5-bd4701b0a224",
   "metadata": {},
   "outputs": [
    {
     "data": {
      "text/plain": [
       "ClaimNb                                     1.0\n",
       "Exposure                                    1.0\n",
       "Power                                       1.0\n",
       "CarAge                                      1.0\n",
       "DriverAge                                   1.0\n",
       "Density                                     1.0\n",
       "ClaimFreq                                   1.0\n",
       "Brand_Fiat                                  1.0\n",
       "Brand_Japanese (except Nissan) or Korean    1.0\n",
       "Brand_Mercedes, Chrysler or BMW             1.0\n",
       "Brand_Opel, General Motors or Ford          1.0\n",
       "Brand_Renault, Nissan or Citroen            1.0\n",
       "Brand_Volkswagen, Audi, Skoda or Seat       1.0\n",
       "Brand_other                                 1.0\n",
       "Gas_Diesel                                  1.0\n",
       "Gas_Regular                                 1.0\n",
       "Region_Aquitaine                            1.0\n",
       "Region_Basse-Normandie                      1.0\n",
       "Region_Bretagne                             1.0\n",
       "Region_Centre                               1.0\n",
       "Region_Haute-Normandie                      1.0\n",
       "Region_Ile-de-France                        1.0\n",
       "Region_Limousin                             1.0\n",
       "Region_Nord-Pas-de-Calais                   1.0\n",
       "Region_Pays-de-la-Loire                     1.0\n",
       "Region_Poitou-Charentes                     1.0\n",
       "dtype: float64"
      ]
     },
     "execution_count": 67,
     "metadata": {},
     "output_type": "execute_result"
    }
   ],
   "source": [
    "# Verify minimum value of all features in X_train_scale:\n",
    "\n",
    "X_train_scale.max(axis=0)"
   ]
  },
  {
   "cell_type": "code",
   "execution_count": 73,
   "id": "3d7f8312-ec32-4835-a5fc-403689e3c9c7",
   "metadata": {},
   "outputs": [
    {
     "name": "stdout",
     "output_type": "stream",
     "text": [
      "             ClaimNb       Exposure         CarAge      DriverAge  \\\n",
      "count  413960.000000  413960.000000  413960.000000  413960.000000   \n",
      "mean        0.043089       0.561368       7.531435      45.317393   \n",
      "std         0.223188       0.369401       5.761992      14.332686   \n",
      "min         0.000000       0.002732       0.000000      18.000000   \n",
      "25%         0.000000       0.200000       3.000000      34.000000   \n",
      "50%         0.000000       0.540000       7.000000      44.000000   \n",
      "75%         0.000000       1.000000      12.000000      54.000000   \n",
      "max         4.000000       1.990000     100.000000      99.000000   \n",
      "\n",
      "             Density   ClaimAmount      ClaimFreq      ClaimSev  \n",
      "count  413960.000000  4.139600e+05  413960.000000  4.139600e+05  \n",
      "mean     1987.325519  8.325702e+01       0.128651  3.704311e+02  \n",
      "std      4779.598311  4.184730e+03       2.279562  3.471498e+04  \n",
      "min         2.000000  0.000000e+00       0.000000  0.000000e+00  \n",
      "25%        67.000000  0.000000e+00       0.000000  0.000000e+00  \n",
      "50%       287.000000  0.000000e+00       0.000000  0.000000e+00  \n",
      "75%      1410.000000  0.000000e+00       0.000000  0.000000e+00  \n",
      "max     27000.000000  2.036833e+06     365.000004  1.824670e+07  \n"
     ]
    }
   ],
   "source": [
    "#Here, we use the pd.describe() function to obtain descriptive statistics of the original dataset (prior to preprocessing).\n",
    "print(df_merged.describe())"
   ]
  },
  {
   "cell_type": "markdown",
   "id": "a54a509d-bca4-4497-a5fe-93bec9d6a0dd",
   "metadata": {},
   "source": [
    "Next, we will generate pairplots between the targets and features to understand the relationships between them and discover whether there are any trends/correlations within the data. To do this, we will use the seaborn.pairplot() function as a high-level interface to plot the pairwise relationships in the df_merged dataset."
   ]
  },
  {
   "cell_type": "code",
   "execution_count": 74,
   "id": "da692de7-1732-4d72-b598-f78f4f8db738",
   "metadata": {},
   "outputs": [
    {
     "data": {
      "image/png": "[encoded data removed]",
      "text/plain": [
       "<Figure size 1260x180 with 7 Axes>"
      ]
     },
     "metadata": {
      "needs_background": "light"
     },
     "output_type": "display_data"
    }
   ],
   "source": [
    "desc_pairplot_x_vars_A = ['ClaimNb', 'Power', 'CarAge', 'DriverAge', 'Brand', 'Gas', 'Density']\n",
    "\n",
    "desc_pairplot_x_vars_B = ['Power', 'CarAge', 'DriverAge', 'Brand', 'Gas', 'Density']\n",
    "\n",
    "\n",
    "desc_pairplot_1 = sns.pairplot(df_merged, x_vars=desc_pairplot_x_vars_A, y_vars='Exposure')"
   ]
  },
  {
   "cell_type": "markdown",
   "id": "921834b2-a65b-4186-a77a-1acc1c1db8c8",
   "metadata": {},
   "source": [
    "ClaimNb: The trend in this graph implies that policyholders with higher claim frequencies tend to be covered on policies with shorter exposure periods (this view may, however, be affected by renewals/binders).\n",
    "\n",
    "Power: The trend in this graph implies that cars covered by policies with longer exposure periods tend to be less powerful, although there appear to be some high-powered cars (e.g. categories k/n) that go against this pattern.\n",
    "\n",
    "CarAge: The trend in this graph implies that a vast majority of the cars insured have 1-year exposure periods, with a wider spread of policy exposure periods in the range of years lower than 25 (i.e. relatively young cars).\n",
    "\n",
    "DriverAge: This graph shows a wide distribution of exposure periods across drivers of different ages, with a range of middle-aged policyholders that are insured with exposure periods longer than 1 year.\n",
    "\n",
    "Brand: This graph does not show any clear correlation or trend between the exposure period of the MTPL policy and the brand of the car that is insured.\n",
    "\n",
    "Gas: This graph does not show any clear correlation or trend between the exposure period of the MTPL policy and the fuel type of the car that is insured.\n",
    "\n",
    "Density: This graph shows a wide distribution of policy exposure periods, which appears to decrease as the population density of the area that the policyholder inhabits increases; however, this distribution does feature some observations at higher values of Density."
   ]
  },
  {
   "cell_type": "code",
   "execution_count": 75,
   "id": "f040a4ef-7b13-4b17-855e-95aafa4523c4",
   "metadata": {},
   "outputs": [
    {
     "data": {
      "image/png": "[encoded data removed]",
      "text/plain": [
       "<Figure size 1080x180 with 6 Axes>"
      ]
     },
     "metadata": {
      "needs_background": "light"
     },
     "output_type": "display_data"
    }
   ],
   "source": [
    "desc_pairplot_2 = sns.pairplot(df_merged, x_vars=desc_pairplot_x_vars_B, y_vars='ClaimNb')"
   ]
  },
  {
   "cell_type": "markdown",
   "id": "9fed661c-9454-41d6-8460-20b1f4b50db2",
   "metadata": {},
   "source": [
    "Power: The trend in this graph implies that policyholders who are in the upper quartile of claim frequency (i.e. N > 3) tend to drive less powerful/average cars, however there does not appear to be any general correlation between car power and claim frequency, among the majority of other policyholders.\n",
    "\n",
    "CarAge: The trend in this graph implies that a majority of the variance in ClaimNb is shown across cars that are younger than 50; the number of claims per policyholder tends to decrease with the age of the car.\n",
    "\n",
    "DriverAge: This graph shows a wide distribution of claim frequencies across drivers of different ages, with no clear trend between the age of the policyholder and the number of claims that they have made.\n",
    "\n",
    "Brand: This graph does not show any clear correlation or trend between the number of claims made and the brand of the car owned by the (insured) policyholder.\n",
    "\n",
    "Gas: This graph also does not show any clear correlation between the number of claims made and the fuel type of the car that is insured.\n",
    "\n",
    "Density: This graph shows the general trend that the number of claims per policyholder decreases as the population density (of the town/city that they live in) increases.\n"
   ]
  },
  {
   "cell_type": "code",
   "execution_count": 78,
   "id": "606b8626-fb50-4ca4-b358-b6d3661a0d56",
   "metadata": {},
   "outputs": [
    {
     "data": {
      "image/png": "[encoded data removed]",
      "text/plain": [
       "<Figure size 1080x180 with 6 Axes>"
      ]
     },
     "metadata": {
      "needs_background": "light"
     },
     "output_type": "display_data"
    }
   ],
   "source": [
    "desc_pairplot_3 = sns.pairplot(df_merged, x_vars=desc_pairplot_x_vars_B, y_vars='ClaimFreq')"
   ]
  },
  {
   "cell_type": "raw",
   "id": "2cc56996-934a-4ad4-86a5-f01651f3cdc4",
   "metadata": {},
   "source": [
    "How will the distribution of this response variable affect the choice of regressors used for modelling claim severity?\n",
    "\n",
    "As claim severity will need to be modelled via asymmetric/skewed distributions, we will need to consider regression approaches using generalised linear models which allow for response variables to have distributions that are non-normal, as well as other regressors that are capable of generalising in an agnostic manner (i.e. these do not require the underlying distribution of the response variable to be pre-defined). These methods are considered in further detail."
   ]
  },
  {
   "cell_type": "markdown",
   "id": "ca36016d-cac5-4851-9e8b-16a6c71bf5c5",
   "metadata": {},
   "source": [
    "### Perform feature selection via L1 regularisation\n",
    "Next, we will perform feature selection via L1 (lasso) regularisation, in order to reduce the number of features that are used for fitting each of the models - this is done in order to prevent overfitting. To do this, we add a regularisation term (containing the L1 norm) to the standard loss function that is to be minimised, such that:\n",
    "\n",
    "Loss=Error(y,y^)+λ∑i=1N|wi|\n",
    " \n",
    "Where:\n",
    "\n",
    "y\n",
    "  is the true value/severity of the claim\n",
    "y^\n",
    "  is the claim value/severity predicted by the model\n",
    "λ>0\n",
    "  is the regularisation parameter that determines the strength of regularisation to be applied to the loss function\n",
    "wi\n",
    "  is the weight of feature  i"
   ]
  },
  {
   "cell_type": "code",
   "execution_count": 80,
   "id": "8fe5b892-4b04-47ae-9c25-ea88dcef3e0f",
   "metadata": {},
   "outputs": [],
   "source": [
    "from sklearn.linear_model import Lasso\n",
    "from sklearn.feature_selection import SelectFromModel"
   ]
  },
  {
   "cell_type": "code",
   "execution_count": 83,
   "id": "5ef7df2c-2273-4376-aa73-f7320e48ac8c",
   "metadata": {},
   "outputs": [
    {
     "name": "stdout",
     "output_type": "stream",
     "text": [
      "          ClaimNb  Exposure     Power  CarAge  DriverAge   Density  ClaimFreq  \\\n",
      "PolicyID                                                                        \n",
      "262972        0.0  0.119394  0.181818    0.11   0.098765  0.000519        0.0   \n",
      "316568        0.0  0.209971  0.090909    0.04   0.197531  0.025261        0.0   \n",
      "266894        0.0  0.215003  0.181818    0.05   0.148148  0.292059        0.0   \n",
      "186466        0.0  0.501829  0.181818    0.09   0.493827  0.000852        0.0   \n",
      "167265        0.0  0.501829  0.181818    0.15   0.555556  0.001111        0.0   \n",
      "...           ...       ...       ...     ...        ...       ...        ...   \n",
      "73213         0.0  0.501829  0.181818    0.10   0.506173  0.008334        0.0   \n",
      "370705        0.0  0.310611  0.363636    0.18   0.345679  0.000926        0.0   \n",
      "311611        0.0  0.124426  0.272727    0.01   0.259259  0.135529        0.0   \n",
      "266811        0.0  0.456540  0.090909    0.07   0.271605  0.001704        0.0   \n",
      "127768        0.0  0.124426  0.090909    0.06   0.234568  0.152826        0.0   \n",
      "\n",
      "          Brand_Fiat  Brand_Japanese (except Nissan) or Korean  \\\n",
      "PolicyID                                                         \n",
      "262972           0.0                                       0.0   \n",
      "316568           0.0                                       0.0   \n",
      "266894           0.0                                       0.0   \n",
      "186466           0.0                                       0.0   \n",
      "167265           0.0                                       0.0   \n",
      "...              ...                                       ...   \n",
      "73213            0.0                                       0.0   \n",
      "370705           0.0                                       0.0   \n",
      "311611           0.0                                       1.0   \n",
      "266811           0.0                                       0.0   \n",
      "127768           0.0                                       0.0   \n",
      "\n",
      "          Brand_Mercedes, Chrysler or BMW  ...  Region_Aquitaine  \\\n",
      "PolicyID                                   ...                     \n",
      "262972                                0.0  ...               0.0   \n",
      "316568                                0.0  ...               0.0   \n",
      "266894                                0.0  ...               0.0   \n",
      "186466                                0.0  ...               0.0   \n",
      "167265                                0.0  ...               0.0   \n",
      "...                                   ...  ...               ...   \n",
      "73213                                 0.0  ...               0.0   \n",
      "370705                                0.0  ...               0.0   \n",
      "311611                                0.0  ...               0.0   \n",
      "266811                                0.0  ...               0.0   \n",
      "127768                                0.0  ...               0.0   \n",
      "\n",
      "          Region_Basse-Normandie  Region_Bretagne  Region_Centre  \\\n",
      "PolicyID                                                           \n",
      "262972                       0.0              0.0            1.0   \n",
      "316568                       0.0              0.0            0.0   \n",
      "266894                       0.0              0.0            0.0   \n",
      "186466                       0.0              0.0            0.0   \n",
      "167265                       0.0              0.0            1.0   \n",
      "...                          ...              ...            ...   \n",
      "73213                        0.0              0.0            0.0   \n",
      "370705                       0.0              0.0            1.0   \n",
      "311611                       0.0              0.0            0.0   \n",
      "266811                       0.0              0.0            1.0   \n",
      "127768                       0.0              0.0            0.0   \n",
      "\n",
      "          Region_Haute-Normandie  Region_Ile-de-France  Region_Limousin  \\\n",
      "PolicyID                                                                  \n",
      "262972                       0.0                   0.0              0.0   \n",
      "316568                       0.0                   0.0              0.0   \n",
      "266894                       0.0                   0.0              0.0   \n",
      "186466                       0.0                   0.0              0.0   \n",
      "167265                       0.0                   0.0              0.0   \n",
      "...                          ...                   ...              ...   \n",
      "73213                        0.0                   0.0              0.0   \n",
      "370705                       0.0                   0.0              0.0   \n",
      "311611                       0.0                   1.0              0.0   \n",
      "266811                       0.0                   0.0              0.0   \n",
      "127768                       0.0                   0.0              0.0   \n",
      "\n",
      "          Region_Nord-Pas-de-Calais  Region_Pays-de-la-Loire  \\\n",
      "PolicyID                                                       \n",
      "262972                          0.0                      0.0   \n",
      "316568                          1.0                      0.0   \n",
      "266894                          1.0                      0.0   \n",
      "186466                          0.0                      0.0   \n",
      "167265                          0.0                      0.0   \n",
      "...                             ...                      ...   \n",
      "73213                           0.0                      0.0   \n",
      "370705                          0.0                      0.0   \n",
      "311611                          0.0                      0.0   \n",
      "266811                          0.0                      0.0   \n",
      "127768                          0.0                      1.0   \n",
      "\n",
      "          Region_Poitou-Charentes  \n",
      "PolicyID                           \n",
      "262972                        0.0  \n",
      "316568                        0.0  \n",
      "266894                        0.0  \n",
      "186466                        1.0  \n",
      "167265                        0.0  \n",
      "...                           ...  \n",
      "73213                         1.0  \n",
      "370705                        0.0  \n",
      "311611                        0.0  \n",
      "266811                        0.0  \n",
      "127768                        0.0  \n",
      "\n",
      "[82792 rows x 26 columns]\n"
     ]
    },
    {
     "name": "stderr",
     "output_type": "stream",
     "text": [
      "C:\\Users\\shubham.rangate\\Anaconda3\\envs\\machine_learning\\lib\\site-packages\\sklearn\\base.py:443: UserWarning: X has feature names, but SelectFromModel was fitted without feature names\n",
      "  warnings.warn(\n"
     ]
    }
   ],
   "source": [
    "lasso = Lasso(alpha=5e-5, random_state=1, max_iter=1e+6).fit(X_train_scale, y_train)\n",
    "model = SelectFromModel(lasso, prefit=True)\n",
    "\n",
    "X_train_l1 = model.transform(X_train_scale)\n",
    "\n",
    "selected_features = pd.DataFrame(model.inverse_transform(X_train_l1),\n",
    "                                index=X_train_scale.index,\n",
    "                                columns=X_train_scale.columns)\n",
    "\n",
    "print(selected_features)"
   ]
  },
  {
   "cell_type": "code",
   "execution_count": 84,
   "id": "c7fae474-2ba4-4a96-b5dc-3913747d79eb",
   "metadata": {},
   "outputs": [
    {
     "name": "stdout",
     "output_type": "stream",
     "text": [
      "Index(['ClaimNb', 'Exposure', 'Power', 'CarAge', 'DriverAge', 'Density',\n",
      "       'ClaimFreq', 'Brand_Fiat', 'Brand_Japanese (except Nissan) or Korean',\n",
      "       'Brand_Opel, General Motors or Ford',\n",
      "       'Brand_Renault, Nissan or Citroen',\n",
      "       'Brand_Volkswagen, Audi, Skoda or Seat', 'Brand_other', 'Gas_Diesel',\n",
      "       'Region_Basse-Normandie', 'Region_Bretagne', 'Region_Centre',\n",
      "       'Region_Haute-Normandie', 'Region_Ile-de-France', 'Region_Limousin',\n",
      "       'Region_Nord-Pas-de-Calais', 'Region_Pays-de-la-Loire',\n",
      "       'Region_Poitou-Charentes'],\n",
      "      dtype='object')\n"
     ]
    }
   ],
   "source": [
    "selected_columns = selected_features.columns[selected_features.var() != 0]\n",
    "print(selected_columns)"
   ]
  },
  {
   "cell_type": "code",
   "execution_count": 89,
   "id": "532e1afc-9a46-4d13-9587-fa1f602984b6",
   "metadata": {},
   "outputs": [],
   "source": [
    "X_train_l1 = selected_features[selected_columns]"
   ]
  },
  {
   "cell_type": "code",
   "execution_count": 92,
   "id": "125dcf5d-6082-40c1-a6dd-0285743cc856",
   "metadata": {},
   "outputs": [],
   "source": [
    "X_valid_l1 = X_valid_scale[selected_columns]"
   ]
  },
  {
   "cell_type": "code",
   "execution_count": 90,
   "id": "16b3397e-e5f9-4b02-930e-528d5fed1659",
   "metadata": {},
   "outputs": [
    {
     "data": {
      "text/html": [
       "<div>\n",
       "<style scoped>\n",
       "    .dataframe tbody tr th:only-of-type {\n",
       "        vertical-align: middle;\n",
       "    }\n",
       "\n",
       "    .dataframe tbody tr th {\n",
       "        vertical-align: top;\n",
       "    }\n",
       "\n",
       "    .dataframe thead th {\n",
       "        text-align: right;\n",
       "    }\n",
       "</style>\n",
       "<table border=\"1\" class=\"dataframe\">\n",
       "  <thead>\n",
       "    <tr style=\"text-align: right;\">\n",
       "      <th></th>\n",
       "      <th>ClaimNb</th>\n",
       "      <th>Exposure</th>\n",
       "      <th>Power</th>\n",
       "      <th>CarAge</th>\n",
       "      <th>DriverAge</th>\n",
       "      <th>Density</th>\n",
       "      <th>ClaimFreq</th>\n",
       "      <th>Brand_Fiat</th>\n",
       "      <th>Brand_Japanese (except Nissan) or Korean</th>\n",
       "      <th>Brand_Opel, General Motors or Ford</th>\n",
       "      <th>...</th>\n",
       "      <th>Gas_Diesel</th>\n",
       "      <th>Region_Basse-Normandie</th>\n",
       "      <th>Region_Bretagne</th>\n",
       "      <th>Region_Centre</th>\n",
       "      <th>Region_Haute-Normandie</th>\n",
       "      <th>Region_Ile-de-France</th>\n",
       "      <th>Region_Limousin</th>\n",
       "      <th>Region_Nord-Pas-de-Calais</th>\n",
       "      <th>Region_Pays-de-la-Loire</th>\n",
       "      <th>Region_Poitou-Charentes</th>\n",
       "    </tr>\n",
       "    <tr>\n",
       "      <th>PolicyID</th>\n",
       "      <th></th>\n",
       "      <th></th>\n",
       "      <th></th>\n",
       "      <th></th>\n",
       "      <th></th>\n",
       "      <th></th>\n",
       "      <th></th>\n",
       "      <th></th>\n",
       "      <th></th>\n",
       "      <th></th>\n",
       "      <th></th>\n",
       "      <th></th>\n",
       "      <th></th>\n",
       "      <th></th>\n",
       "      <th></th>\n",
       "      <th></th>\n",
       "      <th></th>\n",
       "      <th></th>\n",
       "      <th></th>\n",
       "      <th></th>\n",
       "      <th></th>\n",
       "    </tr>\n",
       "  </thead>\n",
       "  <tbody>\n",
       "    <tr>\n",
       "      <th>262972</th>\n",
       "      <td>0.0</td>\n",
       "      <td>0.119394</td>\n",
       "      <td>0.181818</td>\n",
       "      <td>0.11</td>\n",
       "      <td>0.098765</td>\n",
       "      <td>0.000519</td>\n",
       "      <td>0.0</td>\n",
       "      <td>0.0</td>\n",
       "      <td>0.0</td>\n",
       "      <td>0.0</td>\n",
       "      <td>...</td>\n",
       "      <td>1.0</td>\n",
       "      <td>0.0</td>\n",
       "      <td>0.0</td>\n",
       "      <td>1.0</td>\n",
       "      <td>0.0</td>\n",
       "      <td>0.0</td>\n",
       "      <td>0.0</td>\n",
       "      <td>0.0</td>\n",
       "      <td>0.0</td>\n",
       "      <td>0.0</td>\n",
       "    </tr>\n",
       "    <tr>\n",
       "      <th>316568</th>\n",
       "      <td>0.0</td>\n",
       "      <td>0.209971</td>\n",
       "      <td>0.090909</td>\n",
       "      <td>0.04</td>\n",
       "      <td>0.197531</td>\n",
       "      <td>0.025261</td>\n",
       "      <td>0.0</td>\n",
       "      <td>0.0</td>\n",
       "      <td>0.0</td>\n",
       "      <td>0.0</td>\n",
       "      <td>...</td>\n",
       "      <td>1.0</td>\n",
       "      <td>0.0</td>\n",
       "      <td>0.0</td>\n",
       "      <td>0.0</td>\n",
       "      <td>0.0</td>\n",
       "      <td>0.0</td>\n",
       "      <td>0.0</td>\n",
       "      <td>1.0</td>\n",
       "      <td>0.0</td>\n",
       "      <td>0.0</td>\n",
       "    </tr>\n",
       "    <tr>\n",
       "      <th>266894</th>\n",
       "      <td>0.0</td>\n",
       "      <td>0.215003</td>\n",
       "      <td>0.181818</td>\n",
       "      <td>0.05</td>\n",
       "      <td>0.148148</td>\n",
       "      <td>0.292059</td>\n",
       "      <td>0.0</td>\n",
       "      <td>0.0</td>\n",
       "      <td>0.0</td>\n",
       "      <td>0.0</td>\n",
       "      <td>...</td>\n",
       "      <td>1.0</td>\n",
       "      <td>0.0</td>\n",
       "      <td>0.0</td>\n",
       "      <td>0.0</td>\n",
       "      <td>0.0</td>\n",
       "      <td>0.0</td>\n",
       "      <td>0.0</td>\n",
       "      <td>1.0</td>\n",
       "      <td>0.0</td>\n",
       "      <td>0.0</td>\n",
       "    </tr>\n",
       "    <tr>\n",
       "      <th>186466</th>\n",
       "      <td>0.0</td>\n",
       "      <td>0.501829</td>\n",
       "      <td>0.181818</td>\n",
       "      <td>0.09</td>\n",
       "      <td>0.493827</td>\n",
       "      <td>0.000852</td>\n",
       "      <td>0.0</td>\n",
       "      <td>0.0</td>\n",
       "      <td>0.0</td>\n",
       "      <td>1.0</td>\n",
       "      <td>...</td>\n",
       "      <td>0.0</td>\n",
       "      <td>0.0</td>\n",
       "      <td>0.0</td>\n",
       "      <td>0.0</td>\n",
       "      <td>0.0</td>\n",
       "      <td>0.0</td>\n",
       "      <td>0.0</td>\n",
       "      <td>0.0</td>\n",
       "      <td>0.0</td>\n",
       "      <td>1.0</td>\n",
       "    </tr>\n",
       "    <tr>\n",
       "      <th>167265</th>\n",
       "      <td>0.0</td>\n",
       "      <td>0.501829</td>\n",
       "      <td>0.181818</td>\n",
       "      <td>0.15</td>\n",
       "      <td>0.555556</td>\n",
       "      <td>0.001111</td>\n",
       "      <td>0.0</td>\n",
       "      <td>0.0</td>\n",
       "      <td>0.0</td>\n",
       "      <td>0.0</td>\n",
       "      <td>...</td>\n",
       "      <td>0.0</td>\n",
       "      <td>0.0</td>\n",
       "      <td>0.0</td>\n",
       "      <td>1.0</td>\n",
       "      <td>0.0</td>\n",
       "      <td>0.0</td>\n",
       "      <td>0.0</td>\n",
       "      <td>0.0</td>\n",
       "      <td>0.0</td>\n",
       "      <td>0.0</td>\n",
       "    </tr>\n",
       "  </tbody>\n",
       "</table>\n",
       "<p>5 rows × 23 columns</p>\n",
       "</div>"
      ],
      "text/plain": [
       "          ClaimNb  Exposure     Power  CarAge  DriverAge   Density  ClaimFreq  \\\n",
       "PolicyID                                                                        \n",
       "262972        0.0  0.119394  0.181818    0.11   0.098765  0.000519        0.0   \n",
       "316568        0.0  0.209971  0.090909    0.04   0.197531  0.025261        0.0   \n",
       "266894        0.0  0.215003  0.181818    0.05   0.148148  0.292059        0.0   \n",
       "186466        0.0  0.501829  0.181818    0.09   0.493827  0.000852        0.0   \n",
       "167265        0.0  0.501829  0.181818    0.15   0.555556  0.001111        0.0   \n",
       "\n",
       "          Brand_Fiat  Brand_Japanese (except Nissan) or Korean  \\\n",
       "PolicyID                                                         \n",
       "262972           0.0                                       0.0   \n",
       "316568           0.0                                       0.0   \n",
       "266894           0.0                                       0.0   \n",
       "186466           0.0                                       0.0   \n",
       "167265           0.0                                       0.0   \n",
       "\n",
       "          Brand_Opel, General Motors or Ford  ...  Gas_Diesel  \\\n",
       "PolicyID                                      ...               \n",
       "262972                                   0.0  ...         1.0   \n",
       "316568                                   0.0  ...         1.0   \n",
       "266894                                   0.0  ...         1.0   \n",
       "186466                                   1.0  ...         0.0   \n",
       "167265                                   0.0  ...         0.0   \n",
       "\n",
       "          Region_Basse-Normandie  Region_Bretagne  Region_Centre  \\\n",
       "PolicyID                                                           \n",
       "262972                       0.0              0.0            1.0   \n",
       "316568                       0.0              0.0            0.0   \n",
       "266894                       0.0              0.0            0.0   \n",
       "186466                       0.0              0.0            0.0   \n",
       "167265                       0.0              0.0            1.0   \n",
       "\n",
       "          Region_Haute-Normandie  Region_Ile-de-France  Region_Limousin  \\\n",
       "PolicyID                                                                  \n",
       "262972                       0.0                   0.0              0.0   \n",
       "316568                       0.0                   0.0              0.0   \n",
       "266894                       0.0                   0.0              0.0   \n",
       "186466                       0.0                   0.0              0.0   \n",
       "167265                       0.0                   0.0              0.0   \n",
       "\n",
       "          Region_Nord-Pas-de-Calais  Region_Pays-de-la-Loire  \\\n",
       "PolicyID                                                       \n",
       "262972                          0.0                      0.0   \n",
       "316568                          1.0                      0.0   \n",
       "266894                          1.0                      0.0   \n",
       "186466                          0.0                      0.0   \n",
       "167265                          0.0                      0.0   \n",
       "\n",
       "          Region_Poitou-Charentes  \n",
       "PolicyID                           \n",
       "262972                        0.0  \n",
       "316568                        0.0  \n",
       "266894                        0.0  \n",
       "186466                        1.0  \n",
       "167265                        0.0  \n",
       "\n",
       "[5 rows x 23 columns]"
      ]
     },
     "execution_count": 90,
     "metadata": {},
     "output_type": "execute_result"
    }
   ],
   "source": [
    "X_train_l1.head()"
   ]
  },
  {
   "cell_type": "markdown",
   "id": "a2be9754-3805-4ac8-9049-85a9dbb653c1",
   "metadata": {},
   "source": [
    "## MODEL BUILDING"
   ]
  },
  {
   "cell_type": "markdown",
   "id": "bcc65438-2964-4aba-a145-50eea96ad20d",
   "metadata": {},
   "source": [
    "In this project, we aim to predict the target (ClaimAmount) using the following linear regression approaches:\n",
    "\n",
    "1. Random Forest Regression\n",
    "Random Forest Regression works by training multiple decision trees, based on the random sampling (with replacement) of a training dataset. Input features from an unseen dataset can then be supplied to each trained decision tree in order to generate a prediction, which is subsequently averaged across all predictions to produce a final regression output; averaging across all predictions has the benefit of reducing overfitting to any given random sample within the training set.\n",
    "\n",
    "2. Poisson (GLM) Regression\n",
    "Poisson Regression works in a very similar way to ordinary linear regression, except here we assume that the response variable (ClaimAmount) has a Poisson distribution - thus forming one of two generalised linear models (GLMs) that we will use in this project:\n",
    "    Yi∼iidPois(λ)\n",
    " \n",
    "This model is chosen purely as the first example of a GLM with a positive continuous distribution that can be used to predict claim severity, although there are better alternatives to use.\n",
    "\n",
    "3. Tweedie (GLM) Regression\n",
    "Tweedie Regression, like Poisson regression, also assumes that the response variable follows a non-normal distribution - in this case, we assume that ClaimAmount has a Tweedie distribution:\n",
    "\n",
    "Y=∑i=1TXi,T∼Pois(λ),Xi∼iidGa(α,γ),T⊥Xi\n",
    "\n",
    "Where  Y\n",
    "  is the aggregate claim amount for a covered risk,  T\n",
    "  is the number of reported claims and  Xi\n",
    "  is the insurance payment for the  ith\n",
    "  claim.\n",
    "\n",
    "However, the Tweedie distribution is special in that it is an example of a compound Poisson-Gamma distribution, which means that the distribution shows a mix between both Poisson and Gamma form. The Poisson component helps to account for the large positive mass at zero (i.e. where ClaimAmount is 0, as most policyholders do not make any claims), however the Gamma component allows for a continuous, positively skewed, tail-shaped distribution associated with exponentially decaying probability density (i.e. higher claim severities can also be accounted for).\n",
    "\n",
    "4. XGBoost (eXtreme Gradient Boosting) Regression\n",
    "XGBoost Regression works similarly to random forest regression, however it is based on an iterative process of gradually reducing the error between predicted & true values. This is achieved by building a new decision tree to fit on the pseudo-residuals of the previous tree, allowing the algorithm to \"learn\" and iteratively refine the regression model until the objective loss function is sufficiently minimised. This can be performed using gradient descent optimisation algorithms; XGBoost is one example of a gradient descent method, and is widely implemented due to its effectiveness in this context.\n",
    "\n"
   ]
  },
  {
   "cell_type": "code",
   "execution_count": 93,
   "id": "a5b94b4a-aa9a-4ac7-819a-869f66e20918",
   "metadata": {},
   "outputs": [
    {
     "name": "stdout",
     "output_type": "stream",
     "text": [
      "Collecting xgboost\n",
      "  Downloading xgboost-2.0.3-py3-none-win_amd64.whl (99.8 MB)\n",
      "Requirement already satisfied: scipy in c:\\users\\shubham.rangate\\anaconda3\\envs\\machine_learning\\lib\\site-packages (from xgboost) (1.7.3)\n",
      "Requirement already satisfied: numpy in c:\\users\\shubham.rangate\\anaconda3\\envs\\machine_learning\\lib\\site-packages (from xgboost) (1.21.5)\n",
      "Installing collected packages: xgboost\n",
      "Successfully installed xgboost-2.0.3\n"
     ]
    }
   ],
   "source": [
    "!pip install xgboost"
   ]
  },
  {
   "cell_type": "markdown",
   "id": "f8db5f7c-2209-42b2-80e4-14be1e2de75c",
   "metadata": {},
   "source": [
    "# Model Building"
   ]
  },
  {
   "cell_type": "markdown",
   "id": "9b457331-13cf-4e0c-8508-80a010940be0",
   "metadata": {},
   "source": [
    "### Cross validation"
   ]
  },
  {
   "cell_type": "code",
   "execution_count": 115,
   "id": "e3b4cfd3-845a-465b-80d8-bc461878907c",
   "metadata": {},
   "outputs": [],
   "source": [
    "# Import the regression models from sklearn/xgboost\n",
    "from sklearn.ensemble import RandomForestRegressor\n",
    "from sklearn.linear_model import PoissonRegressor\n",
    "from sklearn.linear_model import TweedieRegressor\n",
    "from xgboost import XGBRegressor\n",
    "\n",
    "from sklearn.model_selection import cross_val_score"
   ]
  },
  {
   "cell_type": "code",
   "execution_count": 116,
   "id": "18fe91a2-6fb7-4a51-871c-ea3513ed6643",
   "metadata": {},
   "outputs": [],
   "source": [
    "## Define scoring functions for each method.\n",
    "\n",
    "def get_score_RF(n_estimators):\n",
    "    model_RF = RandomForestRegressor(n_estimators=n_estimators, random_state=1, n_jobs=-1)\n",
    "    scores_RF = -1 * cross_val_score(model_RF, X_train_l1, y_train ,cv=5,scoring='neg_mean_absolute_error')\n",
    "    return scores_RF.mean()\n",
    "\n",
    "\n",
    "def get_score_PGLM(alpha):\n",
    "    model_PGLM = PoissonRegressor(alpha=alpha, max_iter=500)  \n",
    "    scores_PGLM = -1 * cross_val_score(model_PGLM, X_train_l1, y_train,cv=5,scoring='neg_mean_absolute_error')\n",
    "    return scores_PGLM.mean()\n",
    "\n",
    "\n",
    "def get_score_TGLM(alpha):\n",
    "    model_TGLM = TweedieRegressor(power=1.8, alpha=alpha, max_iter=500) \n",
    "    scores_TGLM = -1 * cross_val_score(model_TGLM, X_train_l1, y_train,cv=5,scoring='neg_mean_absolute_error')\n",
    "    return scores_TGLM.mean()\n",
    "\n",
    "\n",
    "def get_score_XGB(n_estimators):\n",
    "    model_XGB = XGBRegressor(n_estimators=n_estimators,\n",
    "                               learning_rate=0.01,\n",
    "                               random_state=1)\n",
    "    scores_XGB = -1 * cross_val_score(model_XGB, X_train_l1, y_train,\n",
    "                                     cv=5,\n",
    "                                     scoring='neg_mean_absolute_error') \n",
    "    return scores_XGB.mean()\n",
    "\n",
    "\n",
    "## Create empty dictionaries which will be used to store the scoring results for each method.\n",
    "\n",
    "results_RF = {}\n",
    "results_PGLM = {}\n",
    "results_TGLM = {}\n",
    "results_XGB = {}"
   ]
  },
  {
   "cell_type": "code",
   "execution_count": 117,
   "id": "24c34e6d-d18d-46d0-a285-0b2cf5e8558e",
   "metadata": {},
   "outputs": [
    {
     "name": "stdout",
     "output_type": "stream",
     "text": [
      "results_RF1 recorded\n",
      "results_RF2 recorded\n",
      "results_RF3 recorded\n",
      "results_RF4 recorded\n",
      "results_RF5 recorded\n",
      "results_RF6 recorded\n",
      "results_RF7 recorded\n",
      "results_RF8 recorded\n",
      "RF done\n"
     ]
    }
   ],
   "source": [
    "## Obtain 8 scores for the RandomForestRegressor model.\n",
    "\n",
    "for i in range(1, 9):\n",
    "    results_RF[100*i] = get_score_RF(100*i)\n",
    "    print(\"results_RF{} recorded\".format(i))\n",
    "\n",
    "print(\"RF done\")"
   ]
  },
  {
   "cell_type": "code",
   "execution_count": 118,
   "id": "c047155b-39ac-47bb-9dd1-4909455c8f1b",
   "metadata": {},
   "outputs": [
    {
     "name": "stdout",
     "output_type": "stream",
     "text": [
      "results_PGLM1 recorded\n",
      "results_PGLM2 recorded\n",
      "results_PGLM3 recorded\n",
      "results_PGLM4 recorded\n",
      "results_PGLM5 recorded\n",
      "results_PGLM6 recorded\n",
      "results_PGLM7 recorded\n",
      "results_PGLM8 recorded\n",
      "PGLM done\n"
     ]
    }
   ],
   "source": [
    "for i in range(1, 9):\n",
    "    results_PGLM[round(0.2*i, 2)] = get_score_PGLM(round(0.2*i, 2))\n",
    "    print(\"results_PGLM{} recorded\".format(i))\n",
    "\n",
    "print(\"PGLM done\")"
   ]
  },
  {
   "cell_type": "code",
   "execution_count": 119,
   "id": "4dead632-b362-4a50-b71f-d992e95ca9d8",
   "metadata": {},
   "outputs": [
    {
     "name": "stdout",
     "output_type": "stream",
     "text": [
      "results_TGLM1 recorded\n",
      "results_TGLM2 recorded\n",
      "results_TGLM3 recorded\n",
      "results_TGLM4 recorded\n",
      "results_TGLM5 recorded\n",
      "results_TGLM6 recorded\n",
      "results_TGLM7 recorded\n",
      "results_TGLM8 recorded\n",
      "TGLM done\n"
     ]
    }
   ],
   "source": [
    "# Obtain 8 scores for the TweedieRegressor model.\n",
    "\n",
    "for i in range(1, 9):\n",
    "    results_TGLM[round(0.01*i, 2)] = get_score_TGLM(round(0.01*i, 2))\n",
    "    print(\"results_TGLM{} recorded\".format(i))\n",
    "\n",
    "print(\"TGLM done\")"
   ]
  },
  {
   "cell_type": "code",
   "execution_count": 120,
   "id": "26a7a623-ce80-47a3-84e1-ab24e9e12339",
   "metadata": {},
   "outputs": [
    {
     "name": "stdout",
     "output_type": "stream",
     "text": [
      "results_XGB1 recorded\n",
      "results_XGB2 recorded\n",
      "results_XGB3 recorded\n",
      "results_XGB4 recorded\n",
      "results_XGB5 recorded\n",
      "results_XGB6 recorded\n",
      "results_XGB7 recorded\n",
      "results_XGB8 recorded\n",
      "XGB done\n"
     ]
    }
   ],
   "source": [
    "#Obtain 8 scores for the XGBRegressor model.\n",
    "\n",
    "for i in range(1, 9):\n",
    "    results_XGB[5*i] = get_score_XGB(5*i)\n",
    "    print(\"results_XGB{} recorded\".format(i))\n",
    "    \n",
    "print(\"XGB done\")"
   ]
  },
  {
   "cell_type": "code",
   "execution_count": 121,
   "id": "05483856-428e-4c4c-b72d-ad669fc43e65",
   "metadata": {},
   "outputs": [
    {
     "name": "stdout",
     "output_type": "stream",
     "text": [
      "300\n"
     ]
    }
   ],
   "source": [
    "RF_n_estimators_best = min(results_RF, key=results_RF.get)\n",
    "print(RF_n_estimators_best)"
   ]
  },
  {
   "cell_type": "code",
   "execution_count": 122,
   "id": "27d166ad-ef8d-438a-b8df-62520cc45f0f",
   "metadata": {},
   "outputs": [
    {
     "name": "stdout",
     "output_type": "stream",
     "text": [
      "1.6\n"
     ]
    }
   ],
   "source": [
    "PGLM_alpha_best = min(results_PGLM, key=results_PGLM.get)\n",
    "print(PGLM_alpha_best)"
   ]
  },
  {
   "cell_type": "code",
   "execution_count": 123,
   "id": "e1443888-0565-4982-8a6e-b876e544713c",
   "metadata": {},
   "outputs": [
    {
     "name": "stdout",
     "output_type": "stream",
     "text": [
      "0.05\n"
     ]
    }
   ],
   "source": [
    "TGLM_alpha_best = min(results_TGLM, key=results_TGLM.get)\n",
    "print(TGLM_alpha_best)"
   ]
  },
  {
   "cell_type": "code",
   "execution_count": 124,
   "id": "c41348e5-3cf0-4c47-a82c-dfcd4014f564",
   "metadata": {},
   "outputs": [
    {
     "name": "stdout",
     "output_type": "stream",
     "text": [
      "40\n"
     ]
    }
   ],
   "source": [
    "XGB_n_estimators_best = min(results_XGB, key=results_XGB.get)\n",
    "print(XGB_n_estimators_best)"
   ]
  },
  {
   "cell_type": "code",
   "execution_count": 125,
   "id": "54fec6e1-91b4-45d9-8853-1fb79f04a2a9",
   "metadata": {},
   "outputs": [],
   "source": [
    "# Model trining\n",
    "\n",
    "# Define the optimised regression models that will be used.\n",
    "\n",
    "model_RF_opt = RandomForestRegressor(n_estimators=RF_n_estimators_best, random_state=1, n_jobs=-1)\n",
    "\n",
    "model_PGLM_opt = PoissonRegressor(alpha=PGLM_alpha_best, max_iter=500)\n",
    "\n",
    "model_TGLM_opt = TweedieRegressor(power=1.8, alpha=TGLM_alpha_best, max_iter=500)\n",
    "\n",
    "model_XGB_opt = XGBRegressor(n_estimators=XGB_n_estimators_best, learning_rate=0.01, random_state=1)"
   ]
  },
  {
   "cell_type": "code",
   "execution_count": 126,
   "id": "7cab3db8-dd93-48a0-a7ad-f6c025df2de4",
   "metadata": {},
   "outputs": [
    {
     "name": "stdout",
     "output_type": "stream",
     "text": [
      "model_RF_opt trained\n",
      "model_PGLM_opt trained\n",
      "model_TGLM_opt trained\n",
      "model_XGB_opt trained\n"
     ]
    }
   ],
   "source": [
    "# Fit the optimised models to the full (pre-processed) training dataset.\n",
    "\n",
    "model_RF_opt.fit(X_train_l1, y_train)\n",
    "print(\"model_RF_opt trained\")\n",
    "\n",
    "model_PGLM_opt.fit(X_train_l1, y_train)\n",
    "print(\"model_PGLM_opt trained\")\n",
    "\n",
    "model_TGLM_opt.fit(X_train_l1, y_train)\n",
    "print(\"model_TGLM_opt trained\")\n",
    "\n",
    "model_XGB_opt.fit(X_train_l1, y_train)\n",
    "print(\"model_XGB_opt trained\")"
   ]
  },
  {
   "cell_type": "code",
   "execution_count": 127,
   "id": "7a036b1b-a4cc-4daf-a5b9-d0dc940bce9b",
   "metadata": {},
   "outputs": [
    {
     "name": "stdout",
     "output_type": "stream",
     "text": [
      "All predictions generated\n"
     ]
    }
   ],
   "source": [
    "# Use the trained models to generate unique sets of predicted y-values i.e. ClaimAmount.\n",
    "\n",
    "preds_RF = model_RF_opt.predict(X_valid_l1)\n",
    "preds_PGLM = model_PGLM_opt.predict(X_valid_l1)\n",
    "preds_TGLM = model_TGLM_opt.predict(X_valid_l1)\n",
    "preds_XGB = model_XGB_opt.predict(X_valid_l1)\n",
    "print(\"All predictions generated\")"
   ]
  },
  {
   "cell_type": "markdown",
   "id": "501689b8-ce9c-4d2c-94c5-b54bf287b341",
   "metadata": {},
   "source": [
    "## Model Evaluation"
   ]
  },
  {
   "cell_type": "code",
   "execution_count": 128,
   "id": "66a2a0b6-d166-4591-86ed-cbc9b90b55bc",
   "metadata": {},
   "outputs": [
    {
     "name": "stdout",
     "output_type": "stream",
     "text": [
      "All MAE scores calculated\n"
     ]
    }
   ],
   "source": [
    "from sklearn.metrics import mean_absolute_error\n",
    "\n",
    "# Calculate the Mean Absolute Error metric for each set of predicted y-values.\n",
    "\n",
    "MAE_RF = mean_absolute_error(y_valid, preds_RF)\n",
    "MAE_PGLM = mean_absolute_error(y_valid, preds_PGLM)\n",
    "MAE_TGLM = mean_absolute_error(y_valid, preds_TGLM)\n",
    "MAE_XGB = mean_absolute_error(y_valid, preds_XGB)\n",
    "print(\"All MAE scores calculated\")"
   ]
  },
  {
   "cell_type": "code",
   "execution_count": 129,
   "id": "31f19e1a-8810-469a-8739-40befe249dff",
   "metadata": {},
   "outputs": [
    {
     "name": "stdout",
     "output_type": "stream",
     "text": [
      "{'RF': 101.0010701705062, 'PGLM': 133.6624727392424, 'TGLM': 90.39085523759597, 'XGB': 124.53004453995226}\n"
     ]
    }
   ],
   "source": [
    "# Collect all MAE scores in a single dictionary.\n",
    "\n",
    "MAE_results = {'RF': MAE_RF,\n",
    "                'PGLM': MAE_PGLM,\n",
    "                'TGLM': MAE_TGLM,\n",
    "                'XGB': MAE_XGB}\n",
    "\n",
    "print(MAE_results)"
   ]
  },
  {
   "cell_type": "code",
   "execution_count": 130,
   "id": "0e5c7bce-1510-4a65-8a1b-ea454f82d15f",
   "metadata": {},
   "outputs": [
    {
     "name": "stdout",
     "output_type": "stream",
     "text": [
      "TGLM\n"
     ]
    }
   ],
   "source": [
    "# Select the model with the smallest MAE.\n",
    "\n",
    "best_model = min(MAE_results, key=MAE_results.get)\n",
    "print(best_model)"
   ]
  },
  {
   "cell_type": "code",
   "execution_count": null,
   "id": "6bd83a0f-0045-4742-9171-483ef33bca99",
   "metadata": {},
   "outputs": [],
   "source": []
  },
  {
   "cell_type": "code",
   "execution_count": null,
   "id": "a98d21b4-d526-497c-8876-02b1e493f66b",
   "metadata": {},
   "outputs": [],
   "source": []
  }
 ],
 "metadata": {
  "kernelspec": {
   "display_name": "Python 3 (ipykernel)",
   "language": "python",
   "name": "python3"
  },
  "language_info": {
   "codemirror_mode": {
    "name": "ipython",
    "version": 3
   },
   "file_extension": ".py",
   "mimetype": "text/x-python",
   "name": "python",
   "nbconvert_exporter": "python",
   "pygments_lexer": "ipython3",
   "version": "3.9.7"
  }
 },
 "nbformat": 4,
 "nbformat_minor": 5
}
